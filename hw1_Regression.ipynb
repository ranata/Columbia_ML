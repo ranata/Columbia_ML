{
 "cells": [
  {
   "cell_type": "code",
   "execution_count": 2,
   "metadata": {},
   "outputs": [],
   "source": [
    "import numpy as np"
   ]
  },
  {
   "cell_type": "code",
   "execution_count": 3,
   "metadata": {},
   "outputs": [],
   "source": [
    "lambda_input = float(1.5)\n",
    "sigma2_input = float(2)"
   ]
  },
  {
   "cell_type": "code",
   "execution_count": 4,
   "metadata": {},
   "outputs": [],
   "source": [
    "X_train = np.genfromtxt('X_train.csv', delimiter=',')"
   ]
  },
  {
   "cell_type": "code",
   "execution_count": 5,
   "metadata": {},
   "outputs": [],
   "source": [
    "X_bias = np.ones([X_train.shape[0], 1])"
   ]
  },
  {
   "cell_type": "code",
   "execution_count": 6,
   "metadata": {},
   "outputs": [
    {
     "data": {
      "text/plain": [
       "(350, 7)"
      ]
     },
     "execution_count": 6,
     "metadata": {},
     "output_type": "execute_result"
    }
   ],
   "source": [
    "X_train.shape"
   ]
  },
  {
   "cell_type": "code",
   "execution_count": 7,
   "metadata": {},
   "outputs": [],
   "source": [
    "X_train = np.append(X_bias, X_train, axis=1)"
   ]
  },
  {
   "cell_type": "code",
   "execution_count": 8,
   "metadata": {},
   "outputs": [
    {
     "data": {
      "text/plain": [
       "(350, 8)"
      ]
     },
     "execution_count": 8,
     "metadata": {},
     "output_type": "execute_result"
    }
   ],
   "source": [
    "X_train.shape"
   ]
  },
  {
   "cell_type": "code",
   "execution_count": 9,
   "metadata": {},
   "outputs": [],
   "source": [
    "X_test = np.genfromtxt('X_test.csv', delimiter=',')"
   ]
  },
  {
   "cell_type": "code",
   "execution_count": 10,
   "metadata": {},
   "outputs": [],
   "source": [
    "X_bias = np.ones([X_test.shape[0], 1])"
   ]
  },
  {
   "cell_type": "code",
   "execution_count": 11,
   "metadata": {},
   "outputs": [
    {
     "data": {
      "text/plain": [
       "(42, 7)"
      ]
     },
     "execution_count": 11,
     "metadata": {},
     "output_type": "execute_result"
    }
   ],
   "source": [
    "X_test.shape"
   ]
  },
  {
   "cell_type": "code",
   "execution_count": 12,
   "metadata": {},
   "outputs": [],
   "source": [
    "X_test = np.append(X_bias, X_test, axis=1)"
   ]
  },
  {
   "cell_type": "code",
   "execution_count": 13,
   "metadata": {},
   "outputs": [
    {
     "data": {
      "text/plain": [
       "(42, 8)"
      ]
     },
     "execution_count": 13,
     "metadata": {},
     "output_type": "execute_result"
    }
   ],
   "source": [
    "X_test.shape"
   ]
  },
  {
   "cell_type": "code",
   "execution_count": 14,
   "metadata": {},
   "outputs": [],
   "source": [
    "y_train = np.genfromtxt('Y_train.csv', delimiter=',')"
   ]
  },
  {
   "cell_type": "code",
   "execution_count": 15,
   "metadata": {},
   "outputs": [],
   "source": [
    "def part1(X, y, lambd):\n",
    "    ## Input : Arguments to the function\n",
    "    ## Return : wRR, Final list of values to write in the file\n",
    "    \n",
    "    X_transpose = np.transpose(X)\n",
    "    \n",
    "    X_transpose_X = np.dot(X_transpose, X)\n",
    "    \n",
    "    X_transpose_y = np.dot(X_transpose, y)\n",
    "    \n",
    "    identity_matrix = np.eye(X_transpose_X.shape[0])\n",
    "    \n",
    "      \n",
    "    wRR = np.dot(np.linalg.inv(lambd*identity_matrix + X_transpose_X), X_transpose_y).tolist()\n",
    "    \n",
    "    return wRR"
   ]
  },
  {
   "cell_type": "code",
   "execution_count": 16,
   "metadata": {},
   "outputs": [],
   "source": [
    "wRR = part1(X_train, y_train, lambda_input)"
   ]
  },
  {
   "cell_type": "code",
   "execution_count": 17,
   "metadata": {},
   "outputs": [
    {
     "data": {
      "text/plain": [
       "[0.0036152041683159553,\n",
       " -0.44286399714874847,\n",
       " 0.5094773799438883,\n",
       " -0.37245260847814876,\n",
       " -5.328089771973438,\n",
       " 0.2335125904020856,\n",
       " 2.7547390413907027,\n",
       " 0.003615204168355035]"
      ]
     },
     "execution_count": 17,
     "metadata": {},
     "output_type": "execute_result"
    }
   ],
   "source": [
    "wRR"
   ]
  },
  {
   "cell_type": "code",
   "execution_count": 18,
   "metadata": {},
   "outputs": [],
   "source": [
    "np.savetxt(\"wRR_\" + str(lambda_input) + \".csv\", wRR, delimiter=\"\\n\")"
   ]
  },
  {
   "cell_type": "code",
   "execution_count": 19,
   "metadata": {},
   "outputs": [],
   "source": [
    "## Solution for Part 2\n",
    "def part2(X, lambd, sigma2, D):\n",
    "    ## Input : Arguments to the function\n",
    "    ## Return : active, Final list of values to write in the file\n",
    "    \n",
    "    # Calculate prior covariance\n",
    "    X_transpose = np.transpose(X)\n",
    "    X_transpose_X = np.dot(X_transpose, X)\n",
    "    identity_matrix = np.eye(X_transpose_X.shape[0])\n",
    "    \n",
    "    # Calculate prior covariance\n",
    "    covariance = np.linalg.inv(lambd*identity_matrix + (X_transpose_X)/sigma2)\n",
    "    \n",
    "    # Initialize list to hold index of minimum entropy \n",
    "    index = []\n",
    "    D_temp = D\n",
    "    # Loop through to identify top ten indexes\n",
    "    for count in range(10):\n",
    "        # Calculate entropy of all x0 in D_temp\n",
    "        entropy = []\n",
    "        \n",
    "        # Loop through all x0 to identify index with minimum entropy\n",
    "        for x0 in D_temp:\n",
    "            x0_transpose = np.transpose(x0)\n",
    "            entropy.append(sigma2 + np.dot(np.dot(x0_transpose, covariance), x0))\n",
    "        arg_max = np.argmax(np.asarray(entropy))\n",
    "        x0_max = D_temp[arg_max]\n",
    "        \n",
    "        # Remove minimum entropy x0 from D_temp for next iteration\n",
    "        D_temp = np.delete(D_temp, arg_max, 0)\n",
    "        \n",
    "        # Store index of minimum entropy x0 from D \n",
    "        index.append(np.where(np.all(D==x0_max, axis=1))[0][0] + 1)\n",
    "\n",
    "        # Calculate posterior covariance (prior for next iteration)\n",
    "        x0_max_transpose = np.transpose(x0_max)\n",
    "        x0_max_x0_max_transpose = np.dot(x0_max, x0_max_transpose)\n",
    "        covariance = np.linalg.inv(np.linalg.inv(covariance) + x0_max_x0_max_transpose/sigma2)\n",
    "    return index"
   ]
  },
  {
   "cell_type": "code",
   "execution_count": 20,
   "metadata": {},
   "outputs": [],
   "source": [
    "active = part2(X_train, lambda_input, sigma2_input, X_test)  # Assuming active is returned from the function"
   ]
  },
  {
   "cell_type": "code",
   "execution_count": 21,
   "metadata": {},
   "outputs": [
    {
     "data": {
      "text/plain": [
       "[25, 16, 24, 31, 27, 20, 32, 5, 7, 15]"
      ]
     },
     "execution_count": 21,
     "metadata": {},
     "output_type": "execute_result"
    }
   ],
   "source": [
    "active"
   ]
  },
  {
   "cell_type": "code",
   "execution_count": 22,
   "metadata": {},
   "outputs": [],
   "source": [
    "np.savetxt(\"active_\" + str(lambda_input) + \"_\" + \n",
    "str(int(sigma2_input)) + \".csv\", [active], delimiter=\",\", fmt='%d') # write output to file"
   ]
  }
 ],
 "metadata": {
  "kernelspec": {
   "display_name": "Python 3",
   "language": "python",
   "name": "python3"
  },
  "language_info": {
   "codemirror_mode": {
    "name": "ipython",
    "version": 3
   },
   "file_extension": ".py",
   "mimetype": "text/x-python",
   "name": "python",
   "nbconvert_exporter": "python",
   "pygments_lexer": "ipython3",
   "version": "3.6.6"
  }
 },
 "nbformat": 4,
 "nbformat_minor": 2
}
