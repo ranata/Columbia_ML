{
 "cells": [
  {
   "cell_type": "code",
   "execution_count": 1,
   "metadata": {},
   "outputs": [],
   "source": [
    "from __future__ import division\n",
    "import numpy as np\n",
    "import sys\n",
    "import pandas as pd"
   ]
  },
  {
   "cell_type": "code",
   "execution_count": 2,
   "metadata": {},
   "outputs": [],
   "source": [
    "train_data = np.genfromtxt(\"./u.csv\", delimiter = \",\")\n",
    "\n",
    "lam = 2\n",
    "sigma2 = 0.1\n",
    "d = 5"
   ]
  },
  {
   "cell_type": "code",
   "execution_count": 3,
   "metadata": {},
   "outputs": [],
   "source": [
    "def updateUserLocation(V, WU, M):\n",
    "    Nu = M.shape[0]\n",
    "    _U = []\n",
    "    for i in range(Nu):\n",
    "\n",
    "        MV = (V[WU[i]]*M[i, WU[i]][:, None]).sum(axis=0)\n",
    "        VVT = np.dot(V[WU[i]].T, V[WU[i]])\n",
    "\n",
    "        \n",
    "        ui = np.dot(np.linalg.inv(lam*sigma2*np.identity(d) + VVT), MV)\n",
    "\n",
    "        _U.append(ui)\n",
    "\n",
    "    return np.asarray(_U)"
   ]
  },
  {
   "cell_type": "code",
   "execution_count": 4,
   "metadata": {},
   "outputs": [],
   "source": [
    "def updateObjectLocation(U, WV, M):\n",
    "    Nv = M.shape[1]\n",
    "    _V = []\n",
    "    for j in range(Nv):\n",
    "        \n",
    "        MU = (U[WV[j]]*M[WV[j], j][:, None]).sum(axis=0)\n",
    "        UUT = np.dot(U[WV[j]].T, U[WV[j]])\n",
    "\n",
    "        vj = np.dot(np.linalg.inv(lam*sigma2*np.identity(d) + UUT), MU)\n",
    "        \n",
    "        _V.append(vj)\n",
    "\n",
    "    return np.asarray(_V)"
   ]
  },
  {
   "cell_type": "code",
   "execution_count": 5,
   "metadata": {},
   "outputs": [],
   "source": [
    "def updateLoss(U, V, W, M):\n",
    "    _L = 0\n",
    "    \n",
    "    for idx in range(W.shape[0]):\n",
    "        _L = _L - np.square(M[W[idx][0], W[idx][1]] - np.dot(U[W[idx][0]], V[W[idx][1]].T))\n",
    "        _L = _L/(2*sigma2)\n",
    "    U_L2_norm = np.square(np.linalg.norm(U, axis=1)).sum()\n",
    "    V_L2_norm = np.square(np.linalg.norm(V, axis=1)).sum()\n",
    "    _L = _L - (U_L2_norm + V_L2_norm)*lam/2\n",
    "\n",
    "    return _L"
   ]
  },
  {
   "cell_type": "code",
   "execution_count": 6,
   "metadata": {},
   "outputs": [],
   "source": [
    "# Implement function here\n",
    "def PMF(train_data):\n",
    "\n",
    "    U_matrices = []\n",
    "    V_matrices = []\n",
    "    L_vector = []\n",
    "    M = pd.DataFrame(train_data).pivot(index=0, columns=1, values=2).values\n",
    "    V = np.random.multivariate_normal(mean=np.zeros(d), cov = np.identity(d)/lam, size=M.shape[1])\n",
    "    u_idx = np.argwhere(~np.isnan(M))\n",
    "    o_idx = np.array(sorted(u_idx[:,[1, 0]], key = lambda x : x[0]))\n",
    "    \n",
    "    WU = np.split(u_idx[:, 1], np.cumsum(np.unique(u_idx[:, 0], return_counts=True)[1])[:-1])\n",
    "    WV = np.split(o_idx[:, 1], np.cumsum(np.unique(o_idx[:, 0], return_counts=True)[1])[:-1])\n",
    "    \n",
    "    for itr in range(50):\n",
    "        print(\"iteration \", itr+1)\n",
    "        U = updateUserLocation(V, WU, M)\n",
    "        U_matrices.append(U)\n",
    "        V = updateObjectLocation(U, WV, M)\n",
    "        V_matrices.append(V)\n",
    "        L = updateLoss(U, V, u_idx, M)\n",
    "        L_vector.append(L)\n",
    "        print(\"Loss \", L)\n",
    "\n",
    "    return (L_vector, U_matrices, V_matrices)"
   ]
  },
  {
   "cell_type": "code",
   "execution_count": 7,
   "metadata": {
    "scrolled": true
   },
   "outputs": [
    {
     "name": "stdout",
     "output_type": "stream",
     "text": [
      "iteration  1\n"
     ]
    },
    {
     "name": "stderr",
     "output_type": "stream",
     "text": [
      "C:\\Users\\ranata\\AppData\\Local\\conda\\conda\\envs\\my_env\\lib\\site-packages\\ipykernel_launcher.py:6: RuntimeWarning: overflow encountered in double_scalars\n",
      "  \n"
     ]
    },
    {
     "name": "stdout",
     "output_type": "stream",
     "text": [
      "Loss  -inf\n",
      "iteration  2\n",
      "Loss  -inf\n",
      "iteration  3\n",
      "Loss  -inf\n",
      "iteration  4\n",
      "Loss  -inf\n",
      "iteration  5\n",
      "Loss  -inf\n",
      "iteration  6\n",
      "Loss  -inf\n",
      "iteration  7\n",
      "Loss  -inf\n",
      "iteration  8\n",
      "Loss  -inf\n",
      "iteration  9\n",
      "Loss  -inf\n",
      "iteration  10\n",
      "Loss  -inf\n",
      "iteration  11\n",
      "Loss  -inf\n",
      "iteration  12\n",
      "Loss  -inf\n",
      "iteration  13\n",
      "Loss  -inf\n",
      "iteration  14\n",
      "Loss  -inf\n",
      "iteration  15\n",
      "Loss  -inf\n",
      "iteration  16\n",
      "Loss  -inf\n",
      "iteration  17\n",
      "Loss  -inf\n",
      "iteration  18\n",
      "Loss  -inf\n",
      "iteration  19\n",
      "Loss  -inf\n",
      "iteration  20\n",
      "Loss  -inf\n",
      "iteration  21\n",
      "Loss  -inf\n",
      "iteration  22\n",
      "Loss  -inf\n",
      "iteration  23\n",
      "Loss  -inf\n",
      "iteration  24\n",
      "Loss  -inf\n",
      "iteration  25\n",
      "Loss  -inf\n",
      "iteration  26\n",
      "Loss  -inf\n",
      "iteration  27\n",
      "Loss  -inf\n",
      "iteration  28\n",
      "Loss  -inf\n",
      "iteration  29\n",
      "Loss  -inf\n",
      "iteration  30\n",
      "Loss  -inf\n",
      "iteration  31\n",
      "Loss  -inf\n",
      "iteration  32\n",
      "Loss  -inf\n",
      "iteration  33\n",
      "Loss  -inf\n",
      "iteration  34\n",
      "Loss  -inf\n",
      "iteration  35\n",
      "Loss  -inf\n",
      "iteration  36\n",
      "Loss  -inf\n",
      "iteration  37\n",
      "Loss  -inf\n",
      "iteration  38\n",
      "Loss  -inf\n",
      "iteration  39\n",
      "Loss  -inf\n",
      "iteration  40\n",
      "Loss  -inf\n",
      "iteration  41\n",
      "Loss  -inf\n",
      "iteration  42\n",
      "Loss  -inf\n",
      "iteration  43\n",
      "Loss  -inf\n",
      "iteration  44\n",
      "Loss  -inf\n",
      "iteration  45\n",
      "Loss  -inf\n",
      "iteration  46\n",
      "Loss  -inf\n",
      "iteration  47\n",
      "Loss  -inf\n",
      "iteration  48\n",
      "Loss  -inf\n",
      "iteration  49\n",
      "Loss  -inf\n",
      "iteration  50\n",
      "Loss  -inf\n"
     ]
    }
   ],
   "source": [
    "# Assuming the PMF function returns Loss L, U_matrices and V_matrices (refer to lecture)\n",
    "L, U_matrices, V_matrices = PMF(train_data)\n",
    "\n",
    "np.savetxt(\"objective.csv\", L, delimiter=\",\")\n",
    "\n",
    "np.savetxt(\"U-10.csv\", U_matrices[9], delimiter=\",\")\n",
    "np.savetxt(\"U-25.csv\", U_matrices[24], delimiter=\",\")\n",
    "np.savetxt(\"U-50.csv\", U_matrices[49], delimiter=\",\")\n",
    "\n",
    "np.savetxt(\"V-10.csv\", V_matrices[9], delimiter=\",\")\n",
    "np.savetxt(\"V-25.csv\", V_matrices[24], delimiter=\",\")\n",
    "np.savetxt(\"V-50.csv\", V_matrices[49], delimiter=\",\")"
   ]
  },
  {
   "cell_type": "code",
   "execution_count": null,
   "metadata": {},
   "outputs": [],
   "source": []
  }
 ],
 "metadata": {
  "kernelspec": {
   "display_name": "Python 3",
   "language": "python",
   "name": "python3"
  },
  "language_info": {
   "codemirror_mode": {
    "name": "ipython",
    "version": 3
   },
   "file_extension": ".py",
   "mimetype": "text/x-python",
   "name": "python",
   "nbconvert_exporter": "python",
   "pygments_lexer": "ipython3",
   "version": "3.6.6"
  }
 },
 "nbformat": 4,
 "nbformat_minor": 2
}
